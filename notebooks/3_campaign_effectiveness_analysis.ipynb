{
 "cells": [
  {
   "cell_type": "code",
   "execution_count": null,
   "id": "20077430",
   "metadata": {},
   "outputs": [
    {
     "name": "stdout",
     "output_type": "stream",
     "text": [
      "             Stage  Count\n",
      "0  Total Customers  45211\n",
      "1        Contacted  45211\n",
      "2        Converted   5289\n",
      "Chi-square test for education vs. y: p-value = 1.6266562124072994e-51\n",
      "Chi-square test for poutcome vs. y: p-value = 0.0\n",
      "T-test for duration vs. y: p-value = 0.0\n"
     ]
    }
   ],
   "source": [
    "import pandas as pd\n",
    "import numpy as np\n",
    "import matplotlib.pyplot as plt\n",
    "import seaborn as sns\n",
    "from scipy.stats import chi2_contingency, ttest_ind\n",
    "\n",
    "# Load data\n",
    "df = pd.read_csv(\"../data/bank-full.csv\", sep=';')\n",
    "\n",
    "# Prepare data\n",
    "df['was_contacted'] = df['campaign'].apply(lambda x: 'yes' if x > 0 else 'no')\n",
    "df['age_group'] = pd.cut(df['age'], bins=[17, 30, 45, 60, 100], labels=['18-30', '31-45', '46-60', '60+'])\n",
    "\n",
    "# Funnel metrics\n",
    "total = len(df)\n",
    "contacted = df[df['was_contacted'] == 'yes']\n",
    "converted = df[df['y'] == 'yes']\n",
    "conversion_rate = round(len(converted) / len(contacted) * 100, 2)\n",
    "\n",
    "funnel_data = pd.DataFrame({\n",
    "    'Stage': ['Total Customers', 'Contacted', 'Converted'],\n",
    "    'Count': [total, len(contacted), len(converted)]\n",
    "})\n",
    "print(funnel_data)\n",
    "\n",
    "\n",
    "# Chi-square test: education vs. y\n",
    "edu_table = pd.crosstab(df['education'], df['y'])\n",
    "chi2_edu, p_edu, _, _ = chi2_contingency(edu_table)\n",
    "print(f\"Chi-square test for education vs. y: p-value = {p_edu}\")\n",
    "\n",
    "# Chi-square test: poutcome vs. y\n",
    "pout_table = pd.crosstab(df['poutcome'], df['y'])\n",
    "chi2_pout, p_pout, _, _ = chi2_contingency(pout_table)\n",
    "print(f\"Chi-square test for poutcome vs. y: p-value = {p_pout}\")\n",
    "\n",
    "# T-test: duration vs. y\n",
    "duration_yes = df[df['y'] == 'yes']['duration']\n",
    "duration_no = df[df['y'] == 'no']['duration']\n",
    "t_stat_dur, p_val_dur = ttest_ind(duration_yes, duration_no, equal_var=False)\n",
    "print(f\"T-test for duration vs. y: p-value = {p_val_dur}\")\n",
    "\n",
    "\n",
    "\n"
   ]
  },
  {
   "cell_type": "markdown",
   "id": "7fc32c4b",
   "metadata": {},
   "source": [
    "## Campaign Effectiveness Summary\n",
    "\n",
    "### Funnel Overview\n",
    "\n",
    "The marketing campaign was evaluated using a 3-stage funnel:\n",
    "\n",
    "| Stage              | Count     |\n",
    "|--------------------|-----------|\n",
    "| Total Customers    | 45,211    |\n",
    "| Contacted          | 45,211    |\n",
    "| Converted          | 5,289     |\n",
    "| **Conversion Rate** | **11.7%** |\n",
    "\n",
    "> All customers in the dataset received at least one contact attempt.\n",
    "\n",
    "---\n",
    "\n",
    "### Hypothesis Testing\n",
    "\n",
    "We performed statistical tests to validate whether certain features significantly influence customer conversion.\n",
    "\n",
    "| Hypothesis | Test Type | P-Value | Conclusion |\n",
    "|------------|-----------|---------|------------|\n",
    "| Education level affects subscription | Chi-Square | ~`1.63e-51` | ✅ Significant |\n",
    "| Previous outcome affects current conversion | Chi-Square | ~`0.00` | ✅ Significant |\n",
    "| Call duration impacts conversion | T-Test | ~`0.00` | ✅ Significant |\n",
    "\n",
    "All tested features show a statistically significant relationship with campaign success.\n",
    "\n",
    "---\n",
    "\n",
    "### Key Insights\n",
    "\n",
    "- **Education**: Higher education correlates with increased conversion\n",
    "- **Poutcome = success**: Strongest predictor of conversion (>65%)\n",
    "- **Call duration**: Longer conversations positively influence outcomes\n",
    "\n",
    "These findings can guide segmentation, call strategy, and retargeting in future campaigns."
   ]
  }
 ],
 "metadata": {
  "kernelspec": {
   "display_name": "base",
   "language": "python",
   "name": "python3"
  },
  "language_info": {
   "codemirror_mode": {
    "name": "ipython",
    "version": 3
   },
   "file_extension": ".py",
   "mimetype": "text/x-python",
   "name": "python",
   "nbconvert_exporter": "python",
   "pygments_lexer": "ipython3",
   "version": "3.12.7"
  }
 },
 "nbformat": 4,
 "nbformat_minor": 5
}
